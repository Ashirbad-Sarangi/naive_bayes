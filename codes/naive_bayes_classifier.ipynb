{
 "cells": [
  {
   "cell_type": "code",
   "execution_count": 1,
   "id": "1c2b1707-961f-4c6d-a4c4-2bedbfcbc143",
   "metadata": {},
   "outputs": [],
   "source": [
    "import pandas as analytics\n",
    "import os\n",
    "import numpy as maths"
   ]
  },
  {
   "cell_type": "code",
   "execution_count": 2,
   "id": "6b525b1c-d019-4cb1-8093-2f74e60e2ec5",
   "metadata": {},
   "outputs": [],
   "source": [
    "d1 = [\"send us your internet banking password\",\"spam\"]\n",
    "d2 = [\"send us your mobile number\",\"ham\"]\n",
    "d3 = [\"change your internet banking password\",\"ham\"]\n",
    "d4 = [\"change your userid\",\"spam\"]\n",
    "d5 = [\"send your internet banking password\",\"spam\"]\n",
    "d6 = [\"send us your account details\",\"spam\"]\n",
    "\n",
    "documents = [d1,d2,d3,d4,d5,d6]"
   ]
  },
  {
   "cell_type": "code",
   "execution_count": 3,
   "id": "e213ee5a-61d5-4ea5-8e0d-5109df229e64",
   "metadata": {},
   "outputs": [],
   "source": [
    "\n",
    "def naive_bayes(documents):\n",
    "    final = ''\n",
    "    for document in documents:\n",
    "        document[0] = document[0] + \" \"\n",
    "        final = final + document[0]\n",
    "        \n",
    "    dictionary = list(set(final.split()))\n",
    "    \n",
    "    outputs = []\n",
    "    inputs = []\n",
    "    for document in documents:\n",
    "        input = []\n",
    "        for word in dictionary:\n",
    "            input.append(document[0].count(word + \" \"))\n",
    "    \n",
    "        inputs.append(input)\n",
    "            \n",
    "        if document[1] == 'spam' : outputs.append(1)\n",
    "        else : outputs.append(0)        \n",
    "    \n",
    "    df_data = analytics.DataFrame(data = inputs, columns = dictionary)\n",
    "    df_data['outputs'] = outputs\n",
    "    \n",
    "    df_fail = df_data[df_data['outputs'] == 0]\n",
    "    df_success = df_data[df_data['outputs'] == 1]\n",
    "\n",
    "    fail_space = len(df_fail)/len(df_data)\n",
    "    success_space = len(df_success)/len(df_data)\n",
    "\n",
    "    \n",
    "    prob_fail = len(df_fail)/len(df_data)\n",
    "    prob_success = 1 - prob_fail\n",
    "    \n",
    "    fail_word = {}\n",
    "    success_word = {}\n",
    "    \n",
    "    for word in dictionary:\n",
    "        fail_word.update({word:sum(df_fail[word])}) \n",
    "        success_word.update({word:sum(df_success[word])})\n",
    "    \n",
    "    fail_word_prob = {}\n",
    "    success_word_prob = {}\n",
    "    for key in fail_word.keys():\n",
    "        fail_word_prob.update({key:(fail_word[key]/fail_space)})\n",
    "        success_word_prob.update({key:(success_word[key]/success_space)})\n",
    "    \n",
    "    return df_data, prob_success, prob_fail, success_word, fail_word, dictionary"
   ]
  },
  {
   "cell_type": "code",
   "execution_count": 4,
   "id": "2cf1b3e7-248b-49a1-9440-b313d6403f1c",
   "metadata": {},
   "outputs": [],
   "source": [
    "df_data, prob_success, prob_fail, success_word , fail_word , dictionary = naive_bayes(documents)"
   ]
  },
  {
   "cell_type": "code",
   "execution_count": 5,
   "id": "22c7121b-b7e0-4c6f-930f-0983e3e22ef8",
   "metadata": {},
   "outputs": [
    {
     "data": {
      "text/html": [
       "<div>\n",
       "<style scoped>\n",
       "    .dataframe tbody tr th:only-of-type {\n",
       "        vertical-align: middle;\n",
       "    }\n",
       "\n",
       "    .dataframe tbody tr th {\n",
       "        vertical-align: top;\n",
       "    }\n",
       "\n",
       "    .dataframe thead th {\n",
       "        text-align: right;\n",
       "    }\n",
       "</style>\n",
       "<table border=\"1\" class=\"dataframe\">\n",
       "  <thead>\n",
       "    <tr style=\"text-align: right;\">\n",
       "      <th></th>\n",
       "      <th>change</th>\n",
       "      <th>userid</th>\n",
       "      <th>banking</th>\n",
       "      <th>number</th>\n",
       "      <th>password</th>\n",
       "      <th>internet</th>\n",
       "      <th>us</th>\n",
       "      <th>account</th>\n",
       "      <th>your</th>\n",
       "      <th>details</th>\n",
       "      <th>send</th>\n",
       "      <th>mobile</th>\n",
       "      <th>outputs</th>\n",
       "    </tr>\n",
       "  </thead>\n",
       "  <tbody>\n",
       "    <tr>\n",
       "      <th>0</th>\n",
       "      <td>0</td>\n",
       "      <td>0</td>\n",
       "      <td>1</td>\n",
       "      <td>0</td>\n",
       "      <td>1</td>\n",
       "      <td>1</td>\n",
       "      <td>1</td>\n",
       "      <td>0</td>\n",
       "      <td>1</td>\n",
       "      <td>0</td>\n",
       "      <td>1</td>\n",
       "      <td>0</td>\n",
       "      <td>1</td>\n",
       "    </tr>\n",
       "    <tr>\n",
       "      <th>1</th>\n",
       "      <td>0</td>\n",
       "      <td>0</td>\n",
       "      <td>0</td>\n",
       "      <td>1</td>\n",
       "      <td>0</td>\n",
       "      <td>0</td>\n",
       "      <td>1</td>\n",
       "      <td>0</td>\n",
       "      <td>1</td>\n",
       "      <td>0</td>\n",
       "      <td>1</td>\n",
       "      <td>1</td>\n",
       "      <td>0</td>\n",
       "    </tr>\n",
       "    <tr>\n",
       "      <th>2</th>\n",
       "      <td>1</td>\n",
       "      <td>0</td>\n",
       "      <td>1</td>\n",
       "      <td>0</td>\n",
       "      <td>1</td>\n",
       "      <td>1</td>\n",
       "      <td>0</td>\n",
       "      <td>0</td>\n",
       "      <td>1</td>\n",
       "      <td>0</td>\n",
       "      <td>0</td>\n",
       "      <td>0</td>\n",
       "      <td>0</td>\n",
       "    </tr>\n",
       "    <tr>\n",
       "      <th>3</th>\n",
       "      <td>1</td>\n",
       "      <td>1</td>\n",
       "      <td>0</td>\n",
       "      <td>0</td>\n",
       "      <td>0</td>\n",
       "      <td>0</td>\n",
       "      <td>0</td>\n",
       "      <td>0</td>\n",
       "      <td>1</td>\n",
       "      <td>0</td>\n",
       "      <td>0</td>\n",
       "      <td>0</td>\n",
       "      <td>1</td>\n",
       "    </tr>\n",
       "    <tr>\n",
       "      <th>4</th>\n",
       "      <td>0</td>\n",
       "      <td>0</td>\n",
       "      <td>1</td>\n",
       "      <td>0</td>\n",
       "      <td>1</td>\n",
       "      <td>1</td>\n",
       "      <td>0</td>\n",
       "      <td>0</td>\n",
       "      <td>1</td>\n",
       "      <td>0</td>\n",
       "      <td>1</td>\n",
       "      <td>0</td>\n",
       "      <td>1</td>\n",
       "    </tr>\n",
       "    <tr>\n",
       "      <th>5</th>\n",
       "      <td>0</td>\n",
       "      <td>0</td>\n",
       "      <td>0</td>\n",
       "      <td>0</td>\n",
       "      <td>0</td>\n",
       "      <td>0</td>\n",
       "      <td>1</td>\n",
       "      <td>1</td>\n",
       "      <td>1</td>\n",
       "      <td>1</td>\n",
       "      <td>1</td>\n",
       "      <td>0</td>\n",
       "      <td>1</td>\n",
       "    </tr>\n",
       "  </tbody>\n",
       "</table>\n",
       "</div>"
      ],
      "text/plain": [
       "   change  userid  banking  number  password  internet  us  account  your  \\\n",
       "0       0       0        1       0         1         1   1        0     1   \n",
       "1       0       0        0       1         0         0   1        0     1   \n",
       "2       1       0        1       0         1         1   0        0     1   \n",
       "3       1       1        0       0         0         0   0        0     1   \n",
       "4       0       0        1       0         1         1   0        0     1   \n",
       "5       0       0        0       0         0         0   1        1     1   \n",
       "\n",
       "   details  send  mobile  outputs  \n",
       "0        0     1       0        1  \n",
       "1        0     1       1        0  \n",
       "2        0     0       0        0  \n",
       "3        0     0       0        1  \n",
       "4        0     1       0        1  \n",
       "5        1     1       0        1  "
      ]
     },
     "execution_count": 5,
     "metadata": {},
     "output_type": "execute_result"
    }
   ],
   "source": [
    "df_data"
   ]
  },
  {
   "cell_type": "code",
   "execution_count": 6,
   "id": "e438cfb6-2112-4a6f-bfe6-528ee07db129",
   "metadata": {},
   "outputs": [
    {
     "data": {
      "text/plain": [
       "['change your account number', 'send your address']"
      ]
     },
     "execution_count": 6,
     "metadata": {},
     "output_type": "execute_result"
    }
   ],
   "source": [
    "test_inputs = [\n",
    "    \"change your account number\",\n",
    "    \"send your address\"\n",
    "]\n",
    "\n",
    "test_inputs"
   ]
  },
  {
   "cell_type": "code",
   "execution_count": 7,
   "id": "38f47edf-c9bd-4694-8ff6-adf93cafd9f5",
   "metadata": {},
   "outputs": [],
   "source": [
    "def test_naive_bayes(dictionary , test_inputs,prob_success, prob_fail, success_word, fail_word, laplace_smoothing = True):\n",
    "    laplace_smoothing = int(laplace_smoothing)\n",
    "    test_outputs = []\n",
    "    for test_input in test_inputs:\n",
    "        fail = prob_fail\n",
    "        success = prob_success\n",
    "        \n",
    "        fail_numerators = []\n",
    "        success_numerators = []\n",
    "        \n",
    "        for word in dictionary:\n",
    "            if word in test_input:\n",
    "                success_numerators.append(success_word[word] + laplace_smoothing)\n",
    "                fail_numerators.append(fail_word[word] + laplace_smoothing)\n",
    "                \n",
    "        for i in range(len(success_numerators)):\n",
    "            success = success * success_numerators[i]\n",
    "            fail = fail * fail_numerators[i]\n",
    "        \n",
    "        success = success / sum(success_numerators)**len(success_numerators)\n",
    "        fail = fail / sum(fail_numerators)**len(fail_numerators)\n",
    "            \n",
    "        if success > fail : test_outputs.append('spam')\n",
    "        else : test_outputs.append('ham')\n",
    "\n",
    "    df_test = analytics.DataFrame(data = test_inputs, columns = ['documents'])\n",
    "    df_test['output'] = test_outputs\n",
    "    return df_test"
   ]
  },
  {
   "cell_type": "code",
   "execution_count": 8,
   "id": "52f73f5c-4ae5-42f9-ad63-2ef66d8d6842",
   "metadata": {},
   "outputs": [
    {
     "data": {
      "text/html": [
       "<div>\n",
       "<style scoped>\n",
       "    .dataframe tbody tr th:only-of-type {\n",
       "        vertical-align: middle;\n",
       "    }\n",
       "\n",
       "    .dataframe tbody tr th {\n",
       "        vertical-align: top;\n",
       "    }\n",
       "\n",
       "    .dataframe thead th {\n",
       "        text-align: right;\n",
       "    }\n",
       "</style>\n",
       "<table border=\"1\" class=\"dataframe\">\n",
       "  <thead>\n",
       "    <tr style=\"text-align: right;\">\n",
       "      <th></th>\n",
       "      <th>documents</th>\n",
       "      <th>output</th>\n",
       "    </tr>\n",
       "  </thead>\n",
       "  <tbody>\n",
       "    <tr>\n",
       "      <th>0</th>\n",
       "      <td>change your account number</td>\n",
       "      <td>spam</td>\n",
       "    </tr>\n",
       "    <tr>\n",
       "      <th>1</th>\n",
       "      <td>send your address</td>\n",
       "      <td>spam</td>\n",
       "    </tr>\n",
       "  </tbody>\n",
       "</table>\n",
       "</div>"
      ],
      "text/plain": [
       "                    documents output\n",
       "0  change your account number   spam\n",
       "1           send your address   spam"
      ]
     },
     "execution_count": 8,
     "metadata": {},
     "output_type": "execute_result"
    }
   ],
   "source": [
    "test_naive_bayes(dictionary , test_inputs, prob_success, prob_fail, success_word, fail_word)"
   ]
  },
  {
   "cell_type": "markdown",
   "id": "f876e378-ce36-4177-a690-cd6a3bcd8044",
   "metadata": {},
   "source": [
    "# Question 3"
   ]
  },
  {
   "cell_type": "code",
   "execution_count": 9,
   "id": "a60c64a3-f2cb-47c7-9570-432fa1d768e4",
   "metadata": {},
   "outputs": [],
   "source": [
    "data = {\n",
    "    \"A1\" : [1,1,0,0,0,0],\n",
    "    \"A2\" : [0,1,1,1,0,0],\n",
    "    \"A3\" : [0,1,0,1,1,1],\n",
    "    \"A4\" : [1,0,1,1,0,1],\n",
    "    \"outputs\" : [1,1,1,0,0,0]\n",
    "       }"
   ]
  },
  {
   "cell_type": "code",
   "execution_count": 98,
   "id": "3cf4b60e-e577-45e7-b823-2e4842322907",
   "metadata": {},
   "outputs": [],
   "source": [
    "data = {\n",
    "    \"A1\" : [1,0,1,0,1],\n",
    "    \"A2\" : [1,2,3,1,2],\n",
    "    \"outputs\" : [1,0,1,0,0]\n",
    "       }"
   ]
  },
  {
   "cell_type": "code",
   "execution_count": 99,
   "id": "8a396acb-5dc4-429b-9ed5-6427727d47cf",
   "metadata": {},
   "outputs": [
    {
     "data": {
      "text/html": [
       "<div>\n",
       "<style scoped>\n",
       "    .dataframe tbody tr th:only-of-type {\n",
       "        vertical-align: middle;\n",
       "    }\n",
       "\n",
       "    .dataframe tbody tr th {\n",
       "        vertical-align: top;\n",
       "    }\n",
       "\n",
       "    .dataframe thead th {\n",
       "        text-align: right;\n",
       "    }\n",
       "</style>\n",
       "<table border=\"1\" class=\"dataframe\">\n",
       "  <thead>\n",
       "    <tr style=\"text-align: right;\">\n",
       "      <th></th>\n",
       "      <th>A1</th>\n",
       "      <th>A2</th>\n",
       "      <th>outputs</th>\n",
       "    </tr>\n",
       "  </thead>\n",
       "  <tbody>\n",
       "    <tr>\n",
       "      <th>0</th>\n",
       "      <td>1</td>\n",
       "      <td>1</td>\n",
       "      <td>1</td>\n",
       "    </tr>\n",
       "    <tr>\n",
       "      <th>1</th>\n",
       "      <td>0</td>\n",
       "      <td>2</td>\n",
       "      <td>0</td>\n",
       "    </tr>\n",
       "    <tr>\n",
       "      <th>2</th>\n",
       "      <td>1</td>\n",
       "      <td>3</td>\n",
       "      <td>1</td>\n",
       "    </tr>\n",
       "    <tr>\n",
       "      <th>3</th>\n",
       "      <td>0</td>\n",
       "      <td>1</td>\n",
       "      <td>0</td>\n",
       "    </tr>\n",
       "    <tr>\n",
       "      <th>4</th>\n",
       "      <td>1</td>\n",
       "      <td>2</td>\n",
       "      <td>0</td>\n",
       "    </tr>\n",
       "  </tbody>\n",
       "</table>\n",
       "</div>"
      ],
      "text/plain": [
       "   A1  A2  outputs\n",
       "0   1   1        1\n",
       "1   0   2        0\n",
       "2   1   3        1\n",
       "3   0   1        0\n",
       "4   1   2        0"
      ]
     },
     "execution_count": 99,
     "metadata": {},
     "output_type": "execute_result"
    }
   ],
   "source": [
    "df_data = analytics.DataFrame(data = data )\n",
    "df_data"
   ]
  },
  {
   "cell_type": "code",
   "execution_count": 101,
   "id": "8a5cbd4d-864f-4785-a70e-26f228e17762",
   "metadata": {},
   "outputs": [],
   "source": [
    "dictionary = list(df_data.columns[:-1])\n",
    "df_fail = df_data[df_data['outputs'] == 0]\n",
    "df_success = df_data[df_data['outputs'] == 1]\n",
    "\n",
    "fail_space = len(df_fail)/len(df_data)\n",
    "success_space = len(df_success)/len(df_data)\n",
    "\n",
    "\n",
    "prob_fail = len(df_fail)/len(df_data)\n",
    "prob_success = 1 - prob_fail\n",
    "\n",
    "fail_word = {}\n",
    "success_word = {}\n",
    "\n",
    "for word in dictionary:\n",
    "    fail_word.update({word:sum(df_fail[word])}) \n",
    "    success_word.update({word:sum(df_success[word])})\n",
    "\n",
    "fail_word_prob = {}\n",
    "success_word_prob = {}\n",
    "for key in fail_word.keys():\n",
    "    fail_word_prob.update({key:(fail_word[key]/fail_space)})\n",
    "    success_word_prob.update({key:(success_word[key]/success_space)})\n"
   ]
  },
  {
   "cell_type": "code",
   "execution_count": 102,
   "id": "17e96499-fa6e-4439-87d1-e14ec3d8e2d5",
   "metadata": {},
   "outputs": [],
   "source": [
    "laplace_smoothing = False"
   ]
  },
  {
   "cell_type": "code",
   "execution_count": 122,
   "id": "1cea71b2-d80e-42d5-801a-5d5b94daf444",
   "metadata": {},
   "outputs": [
    {
     "data": {
      "text/plain": [
       "(3, 2)"
      ]
     },
     "execution_count": 122,
     "metadata": {},
     "output_type": "execute_result"
    }
   ],
   "source": [
    "len(df_fail), len(df_success)"
   ]
  },
  {
   "cell_type": "code",
   "execution_count": 121,
   "id": "c3928659-3f31-454f-a5fc-a86a9c96e912",
   "metadata": {},
   "outputs": [
    {
     "data": {
      "text/plain": [
       "[['A1', 'A2A2A2']]"
      ]
     },
     "execution_count": 121,
     "metadata": {},
     "output_type": "execute_result"
    }
   ],
   "source": [
    "test_inputs"
   ]
  },
  {
   "cell_type": "code",
   "execution_count": 120,
   "id": "cbf67df7-54eb-43f2-a0c7-85267a1927c8",
   "metadata": {},
   "outputs": [
    {
     "data": {
      "text/plain": [
       "{'A1': 1, 'A2': 5}"
      ]
     },
     "execution_count": 120,
     "metadata": {},
     "output_type": "execute_result"
    }
   ],
   "source": [
    "fail_word"
   ]
  },
  {
   "cell_type": "code",
   "execution_count": 107,
   "id": "8104b404-2c7e-4dcf-97c3-98a33bc2b02d",
   "metadata": {},
   "outputs": [
    {
     "name": "stdout",
     "output_type": "stream",
     "text": [
      "0.4\n",
      "0.6\n"
     ]
    },
    {
     "data": {
      "text/plain": [
       "['0']"
      ]
     },
     "execution_count": 107,
     "metadata": {},
     "output_type": "execute_result"
    }
   ],
   "source": [
    "# test_inputs = [[1,1,0,1],[0,0,0,0],[1,1,1,1],[1,0,1,0]]\n",
    "test_inputs = [[1,3]]\n",
    "\n",
    "laplace_smoothing = int(laplace_smoothing)\n",
    "test_outputs = []\n",
    "\n",
    "modified_inputs = []\n",
    "for test_input in test_inputs:\n",
    "    for i in range(len(test_input)): test_input.append(test_input[i] * dictionary[i])\n",
    "    modified_inputs.append(test_input[i+1:])\n",
    "test_inputs = modified_inputs\n",
    "\n",
    "for test_input in test_inputs:\n",
    "    fail = 1\n",
    "    success = 1\n",
    "    \n",
    "    fail_numerators = []\n",
    "    success_numerators = []\n",
    "\n",
    "    for word in dictionary:\n",
    "        if word in test_input:\n",
    "            \n",
    "            success_numerators.append(success_word[word] + laplace_smoothing)\n",
    "            fail_numerators.append(fail_word[word] + laplace_smoothing)\n",
    "            \n",
    "    for i in range(len(success_numerators)):\n",
    "        success = success * success_numerators[i]\n",
    "        fail = fail * fail_numerators[i]\n",
    "\n",
    "    \n",
    "    success = success / sum(success_numerators)**len(success_numerators)\n",
    "    fail = fail / sum(fail_numerators)**len(fail_numerators)\n",
    "\n",
    "    success = prob_success * success \n",
    "    fail = prob_fail * fail\n",
    "\n",
    "    print(success)\n",
    "    print(fail)\n",
    "    \n",
    "    if success > fail : test_outputs.append('1')\n",
    "    else : test_outputs.append('0')\n",
    "\n",
    "test_outputs"
   ]
  },
  {
   "cell_type": "code",
   "execution_count": 77,
   "id": "3bfa38b0-476e-4a78-be8f-0741ea8d766b",
   "metadata": {},
   "outputs": [
    {
     "data": {
      "text/plain": [
       "1"
      ]
     },
     "execution_count": 77,
     "metadata": {},
     "output_type": "execute_result"
    }
   ],
   "source": [
    "laplace_smoothing"
   ]
  },
  {
   "cell_type": "code",
   "execution_count": 15,
   "id": "d3d077ba-9efa-400c-befe-a6885221adc4",
   "metadata": {},
   "outputs": [
    {
     "data": {
      "text/plain": [
       "[]"
      ]
     },
     "execution_count": 15,
     "metadata": {},
     "output_type": "execute_result"
    }
   ],
   "source": [
    "success_numerators"
   ]
  },
  {
   "cell_type": "code",
   "execution_count": 123,
   "id": "7a7d1ef3-68fa-4479-bbe4-d07baa9cae0b",
   "metadata": {},
   "outputs": [
    {
     "data": {
      "text/html": [
       "<div>\n",
       "<style scoped>\n",
       "    .dataframe tbody tr th:only-of-type {\n",
       "        vertical-align: middle;\n",
       "    }\n",
       "\n",
       "    .dataframe tbody tr th {\n",
       "        vertical-align: top;\n",
       "    }\n",
       "\n",
       "    .dataframe thead th {\n",
       "        text-align: right;\n",
       "    }\n",
       "</style>\n",
       "<table border=\"1\" class=\"dataframe\">\n",
       "  <thead>\n",
       "    <tr style=\"text-align: right;\">\n",
       "      <th></th>\n",
       "      <th>A1</th>\n",
       "      <th>A2</th>\n",
       "      <th>outputs</th>\n",
       "    </tr>\n",
       "  </thead>\n",
       "  <tbody>\n",
       "    <tr>\n",
       "      <th>0</th>\n",
       "      <td>1</td>\n",
       "      <td>1</td>\n",
       "      <td>1</td>\n",
       "    </tr>\n",
       "    <tr>\n",
       "      <th>1</th>\n",
       "      <td>0</td>\n",
       "      <td>2</td>\n",
       "      <td>0</td>\n",
       "    </tr>\n",
       "    <tr>\n",
       "      <th>2</th>\n",
       "      <td>1</td>\n",
       "      <td>3</td>\n",
       "      <td>1</td>\n",
       "    </tr>\n",
       "    <tr>\n",
       "      <th>3</th>\n",
       "      <td>0</td>\n",
       "      <td>1</td>\n",
       "      <td>0</td>\n",
       "    </tr>\n",
       "    <tr>\n",
       "      <th>4</th>\n",
       "      <td>1</td>\n",
       "      <td>2</td>\n",
       "      <td>0</td>\n",
       "    </tr>\n",
       "  </tbody>\n",
       "</table>\n",
       "</div>"
      ],
      "text/plain": [
       "   A1  A2  outputs\n",
       "0   1   1        1\n",
       "1   0   2        0\n",
       "2   1   3        1\n",
       "3   0   1        0\n",
       "4   1   2        0"
      ]
     },
     "execution_count": 123,
     "metadata": {},
     "output_type": "execute_result"
    }
   ],
   "source": [
    "df_data"
   ]
  },
  {
   "cell_type": "code",
   "execution_count": 129,
   "id": "0cfe7986-e1b2-4c13-b623-3283def715cf",
   "metadata": {},
   "outputs": [],
   "source": [
    "test_inputs = [[1,3]]\n",
    "test_input = test_inputs[0]"
   ]
  },
  {
   "cell_type": "code",
   "execution_count": 127,
   "id": "ae0add77-10a2-4e6f-b62b-0b5e42e50419",
   "metadata": {},
   "outputs": [
    {
     "data": {
      "text/html": [
       "<div>\n",
       "<style scoped>\n",
       "    .dataframe tbody tr th:only-of-type {\n",
       "        vertical-align: middle;\n",
       "    }\n",
       "\n",
       "    .dataframe tbody tr th {\n",
       "        vertical-align: top;\n",
       "    }\n",
       "\n",
       "    .dataframe thead th {\n",
       "        text-align: right;\n",
       "    }\n",
       "</style>\n",
       "<table border=\"1\" class=\"dataframe\">\n",
       "  <thead>\n",
       "    <tr style=\"text-align: right;\">\n",
       "      <th></th>\n",
       "      <th>A1</th>\n",
       "      <th>A2</th>\n",
       "      <th>outputs</th>\n",
       "    </tr>\n",
       "  </thead>\n",
       "  <tbody>\n",
       "    <tr>\n",
       "      <th>0</th>\n",
       "      <td>1</td>\n",
       "      <td>1</td>\n",
       "      <td>1</td>\n",
       "    </tr>\n",
       "    <tr>\n",
       "      <th>2</th>\n",
       "      <td>1</td>\n",
       "      <td>3</td>\n",
       "      <td>1</td>\n",
       "    </tr>\n",
       "  </tbody>\n",
       "</table>\n",
       "</div>"
      ],
      "text/plain": [
       "   A1  A2  outputs\n",
       "0   1   1        1\n",
       "2   1   3        1"
      ]
     },
     "execution_count": 127,
     "metadata": {},
     "output_type": "execute_result"
    }
   ],
   "source": [
    "df_success"
   ]
  },
  {
   "cell_type": "code",
   "execution_count": 130,
   "id": "9514886e-dc36-42b4-aaa3-339b9bb50c8b",
   "metadata": {},
   "outputs": [
    {
     "data": {
      "text/plain": [
       "['A1', 'A2']"
      ]
     },
     "execution_count": 130,
     "metadata": {},
     "output_type": "execute_result"
    }
   ],
   "source": [
    "dictionary"
   ]
  },
  {
   "cell_type": "code",
   "execution_count": 149,
   "id": "31349471-65b4-4957-9190-71b7e4c6f82f",
   "metadata": {},
   "outputs": [],
   "source": [
    "laplace_smoothing = 1"
   ]
  },
  {
   "cell_type": "markdown",
   "id": "5fd13843-617f-4ac1-b65c-4e9c4da3c114",
   "metadata": {},
   "source": [
    "# Answer Acheived"
   ]
  },
  {
   "cell_type": "code",
   "execution_count": 150,
   "id": "84198b90-b2fd-4b83-af5e-8a7b1d4cb4a3",
   "metadata": {},
   "outputs": [
    {
     "data": {
      "text/plain": [
       "0.75"
      ]
     },
     "execution_count": 150,
     "metadata": {},
     "output_type": "execute_result"
    }
   ],
   "source": [
    "(len(df_success[df_success[dictionary[0]] == test_input[0]]) + laplace_smoothing)/(len(df_success) + len(df_data['A1'].unique()) * laplace_smoothing)"
   ]
  }
 ],
 "metadata": {
  "kernelspec": {
   "display_name": "Python 3 (ipykernel)",
   "language": "python",
   "name": "python3"
  },
  "language_info": {
   "codemirror_mode": {
    "name": "ipython",
    "version": 3
   },
   "file_extension": ".py",
   "mimetype": "text/x-python",
   "name": "python",
   "nbconvert_exporter": "python",
   "pygments_lexer": "ipython3",
   "version": "3.10.12"
  }
 },
 "nbformat": 4,
 "nbformat_minor": 5
}
